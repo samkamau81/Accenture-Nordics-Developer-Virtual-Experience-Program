{
  "nbformat": 4,
  "nbformat_minor": 0,
  "metadata": {
    "colab": {
      "provenance": [],
      "authorship_tag": "ABX9TyNU9cPUygFmVMThTJdLuy+z",
      "include_colab_link": true
    },
    "kernelspec": {
      "name": "python3",
      "display_name": "Python 3"
    },
    "language_info": {
      "name": "python"
    }
  },
  "cells": [
    {
      "cell_type": "markdown",
      "metadata": {
        "id": "view-in-github",
        "colab_type": "text"
      },
      "source": [
        "<a href=\"https://colab.research.google.com/github/samkamau81/Accenture-Nordics-Developer-Virtual-Experience-Program/blob/main/Unit_Testing.ipynb\" target=\"_parent\"><img src=\"https://colab.research.google.com/assets/colab-badge.svg\" alt=\"Open In Colab\"/></a>"
      ]
    },
    {
      "cell_type": "code",
      "execution_count": 1,
      "metadata": {
        "id": "z5R6cd-lljte"
      },
      "outputs": [],
      "source": [
        "import re \n",
        "\n",
        "# Question 1: -----------------------------------\n",
        "regex = r'^[a-z0-9]+[\\._]?[a-z0-9]+[@]\\w+[.]\\w+$' \n",
        "      \n"
      ]
    },
    {
      "cell_type": "code",
      "source": [
        "def check_email(email):  \n",
        "    if(re.search(regex,email)):  \n",
        "        return True          \n",
        "    else:  \n",
        "        return False \n",
        "\n",
        "    assert ((check_email(email)==True) or (check_email(email)==False)) is True\n",
        "        \n"
      ],
      "metadata": {
        "id": "wUNb-V2Ulp0Q"
      },
      "execution_count": 8,
      "outputs": []
    },
    {
      "cell_type": "code",
      "source": [
        "def check_psw_upper(psw):\n",
        "  result = any(char.isupper() for char in psw)\n",
        "  return result\n",
        "  \n",
        "  assert (check_psw_upper(psw)==result) is True"
      ],
      "metadata": {
        "id": "vdtBHDFzlulw"
      },
      "execution_count": 9,
      "outputs": []
    },
    {
      "cell_type": "code",
      "source": [
        "def check_psw_digit(psw):\n",
        "  result = any(char.isdigit() for char in psw)\n",
        "  return result\n",
        "  \n",
        "  assert (check_psw_digit(psw)==result) is True"
      ],
      "metadata": {
        "id": "Jx_lxjyFlw6T"
      },
      "execution_count": 10,
      "outputs": []
    },
    {
      "cell_type": "code",
      "source": [
        "def check_psw_lower(psw):\n",
        "  result = any(char.isupper() for char in psw)\n",
        "  return result\n",
        "  \n",
        "  assert (check_psw_lower(psw)==result) is True"
      ],
      "metadata": {
        "id": "x0OqvKLTl0B2"
      },
      "execution_count": 11,
      "outputs": []
    },
    {
      "cell_type": "code",
      "source": [
        "def check_psw(psw):\n",
        "  if(check_psw_digit(psw)\n",
        "            and check_psw_upper(psw)\n",
        "            and check_psw_lower(psw)\n",
        "            and check_psw_digit(psw)\n",
        "            and len(psw) >= 7):\n",
        "    print(\"Valid password\")\n",
        "    return True\n",
        "  else:\n",
        "    print(\"Invalid password\")    \n",
        "    return False    \n",
        "\n",
        "  assert ((check_psw(psw)==True) or check_psw(psw)==False) is True"
      ],
      "metadata": {
        "id": "46Tg46uJl2oY"
      },
      "execution_count": 14,
      "outputs": []
    },
    {
      "cell_type": "code",
      "source": [
        "# New functions: ------------------------------------\n",
        "def check_psw_equal(psw1, psw2):\n",
        "  return psw1 == psw2\n",
        "\n",
        "  assert (check_psw_equal(psw1,psw2)==True) is True\n",
        "\n",
        "def check_credentials(email, psw1, psw2):\n",
        "  return check_email(email) and check_psw(psw1) and check_psw_equal(psw1, psw2)\n",
        "\n",
        "  assert (check_credentials(email,psw1,psw2)==True) is True"
      ],
      "metadata": {
        "id": "rkeTv72wl7j0"
      },
      "execution_count": 15,
      "outputs": []
    },
    {
      "cell_type": "code",
      "source": [
        "#Tests to question 1: -------------------------------\n",
        "def test_email1():\n",
        "  email = \"myname326@gmail.com\"\n",
        "  assert check_email(email) is True\n",
        "\n",
        "def test_email2():\n",
        "  email = \"my.ownsite@acn.org\"\n",
        "  assert check_email(email) is True\n",
        "\n",
        "def test_email3():\n",
        "  email = \"myname326.com\"\n",
        "  assert check_email(email) is False\n",
        "\n",
        "def test_check_psw1():\n",
        "  psw = \"Qwert1234\"\n",
        "  assert check_psw(psw) is True\n",
        "\n",
        "def test_check_psw2():\n",
        "  psw = \"qwert\"\n",
        "  assert check_psw(psw) is False\n",
        "\n",
        "def test_check_psw3():\n",
        "  psw = \"QWERT55\"\n",
        "  assert check_psw(psw) is False\n",
        "  \n",
        "def test_check_psw4():\n",
        "  psw = \"Qwerty\"\n",
        "  assert check_psw(psw) is False\n",
        "  \n",
        "def test_check_psw5():\n",
        "  psw = \"551234\"\n",
        "  assert check_psw(psw) is False\n",
        "\n",
        "def test_check_psw6():\n",
        "  psw = \"Qwerty$£@55\"\n",
        "  assert check_psw(psw) is True\n",
        "\n",
        "def test_check_psw7():\n",
        "  psw = \"Qwerty$£@\"\n",
        "  assert check_psw(psw) is False\n",
        "\n",
        "def test_check_psw8():\n",
        "  psw = \"Qwert5@\"\n",
        "  assert check_psw(psw) is False     "
      ],
      "metadata": {
        "id": "VGfWDnQGxCtm"
      },
      "execution_count": 16,
      "outputs": []
    },
    {
      "cell_type": "code",
      "source": [
        "\n",
        "def test_psw_equal1():\n",
        "    ans = True\n",
        "    assert (check_psw_equal(psw1, psw2) == ans) is True\n",
        "\n",
        "\n",
        "def test_psw_equal2():\n",
        "    ans=False\n",
        "    assert (check_psw_upper(psw1) == ans) is False\n",
        "    assert (check_psw_lower(psw1)== ans ) is False\n",
        "\n",
        "\n",
        "def test_psw_equal3():\n",
        "    ans=False\n",
        "    assert (check_psw_equal(psw1,psw2) ==ans) is False\n",
        "\n",
        "\n",
        "def test_check_credentials1():\n",
        "    ans=True\n",
        "    assert (check_psw_equal(psw1,psw2)==ans) is True\n",
        "    assert (check_email(psw1)== ans) is True\n",
        "    assert (check_credentials(email,psw1,psw2)==ans) is True\n",
        "    return True\n",
        "\n",
        "def test_check_credentials2 ():\n",
        "    ans1=True\n",
        "    ans2=False\n",
        "    assert (check_psw_equal(psw1,psw2)==ans2) is False\n",
        "    assert (check_email(email)==ans1) is True\n",
        "    assert (check_credentials(email,psw1,psw2)==ans1) is True\n",
        "\n",
        "\n",
        "def test_check_credentials3():\n",
        "    ans1=True\n",
        "    ans2=False\n",
        "    assert (check_psw_equal(psw1,psw2)==ans1) is True\n",
        "    assert (check_email(email)==ans2) is False\n",
        "    assert (check_credentials(email,psw1,psw2)==ans2) is False\n"
      ],
      "metadata": {
        "id": "fXCvxVUAun3s"
      },
      "execution_count": 17,
      "outputs": []
    }
  ]
}